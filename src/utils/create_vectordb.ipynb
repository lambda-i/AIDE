{
 "cells": [
  {
   "cell_type": "code",
   "execution_count": 2,
   "metadata": {},
   "outputs": [],
   "source": [
    "import os\n",
    "import openai\n",
    "from openai import OpenAI\n",
    "from dotenv import load_dotenv\n",
    "from qdrant_client import QdrantClient\n",
    "import fitz"
   ]
  },
  {
   "cell_type": "code",
   "execution_count": 3,
   "metadata": {},
   "outputs": [],
   "source": [
    "load_dotenv()\n",
    "\n",
    "client = OpenAI()\n",
    "client.api_key = os.getenv(\"OPENAI_API_KEY\")"
   ]
  },
  {
   "cell_type": "code",
   "execution_count": 5,
   "metadata": {},
   "outputs": [],
   "source": [
    "def extract_text_from_pdf(pdf_path):\n",
    "    text = \"\"\n",
    "    with fitz.open(pdf_path) as pdf_document:\n",
    "        for page_num in range(len(pdf_document)):\n",
    "            page = pdf_document.load_page(page_num)\n",
    "            text += page.get_text()\n",
    "    return text\n",
    "\n",
    "def split_text_into_chunks(text, max_tokens=500):\n",
    "    chunks = []\n",
    "    words = text.split()\n",
    "    for i in range(0, len(words), max_tokens):\n",
    "        chunk = \" \".join(words[i:i+max_tokens])\n",
    "        chunks.append(chunk)\n",
    "    return chunks"
   ]
  },
  {
   "cell_type": "code",
   "execution_count": 8,
   "metadata": {},
   "outputs": [],
   "source": [
    "pdf_path = 'C:/Users/user/AIIDE/src/utils/martindale-the-complete-drug-reference.pdf'\n",
    "extracted_text = extract_text_from_pdf(pdf_path)\n",
    "chunks = split_text_into_chunks(extracted_text)"
   ]
  },
  {
   "cell_type": "code",
   "execution_count": 12,
   "metadata": {},
   "outputs": [
    {
     "data": {
      "text/plain": [
       "\"·\\x02 Martindale \\nThe Complete Drug Reference \\nThirty-eighth Edition \\nVolume 1: 1-1120 \\nVolume 2: 1121-2314 \\nVolume 3: 2315-3444 \\nVolume 4: 3445-4596 \\n(RP) \\nPharmaceutical Press \\n·\\x02 Martindale \\nThe Complete Drug Reference \\nThirty-eighth Edition \\n(RP) \\nPharmaceutical Press \\nPublished by Pharmaceutical Press \\n1 Lambeth High Street, London SE1 7JN, UK \\n©Pharmaceutical Press 2014 \\n(RP) is a trade mark of Pharmaceutical Press \\nPharmaceutical Press is the publishing division of the Royal Pharmaceutical \\nSociety of Great Britain \\nFirst edition of Martindale: The Extra Pharmacopoeia was published in 1883. \\nSquire's Companion was incorporated in the twenty-third edition in 1952. \\nThirty-eighth edition published 2014 \\nTypeset by Data Standards Ltd \\nPrinted in Italy by LEGO S.p.A. \\nISBN 978 0 85711 139 5 \\nISSN 0263-5364 \\nAll rights reserved. No part of this publication may be \\nreproduced, stored in a retrieval system, or transmitted in any \\nform or by any means, without the prior written permission \""
      ]
     },
     "execution_count": 12,
     "metadata": {},
     "output_type": "execute_result"
    }
   ],
   "source": [
    "extracted_text[:1000]"
   ]
  },
  {
   "cell_type": "code",
   "execution_count": 10,
   "metadata": {},
   "outputs": [
    {
     "ename": "UnicodeEncodeError",
     "evalue": "'charmap' codec can't encode characters in position 62686-62687: character maps to <undefined>",
     "output_type": "error",
     "traceback": [
      "\u001b[1;31m---------------------------------------------------------------------------\u001b[0m",
      "\u001b[1;31mUnicodeEncodeError\u001b[0m                        Traceback (most recent call last)",
      "Cell \u001b[1;32mIn [10], line 2\u001b[0m\n\u001b[0;32m      1\u001b[0m \u001b[38;5;28;01mwith\u001b[39;00m \u001b[38;5;28mopen\u001b[39m(\u001b[38;5;124m\"\u001b[39m\u001b[38;5;124moutput.txt\u001b[39m\u001b[38;5;124m\"\u001b[39m, \u001b[38;5;124m\"\u001b[39m\u001b[38;5;124mw\u001b[39m\u001b[38;5;124m\"\u001b[39m) \u001b[38;5;28;01mas\u001b[39;00m text_file:\n\u001b[1;32m----> 2\u001b[0m     \u001b[43mtext_file\u001b[49m\u001b[38;5;241;43m.\u001b[39;49m\u001b[43mwrite\u001b[49m\u001b[43m(\u001b[49m\u001b[43mextracted_text\u001b[49m\u001b[43m)\u001b[49m\n",
      "File \u001b[1;32mc:\\Users\\user\\AppData\\Local\\Programs\\Python\\Python310\\lib\\encodings\\cp1252.py:19\u001b[0m, in \u001b[0;36mIncrementalEncoder.encode\u001b[1;34m(self, input, final)\u001b[0m\n\u001b[0;32m     18\u001b[0m \u001b[38;5;28;01mdef\u001b[39;00m \u001b[38;5;21mencode\u001b[39m(\u001b[38;5;28mself\u001b[39m, \u001b[38;5;28minput\u001b[39m, final\u001b[38;5;241m=\u001b[39m\u001b[38;5;28;01mFalse\u001b[39;00m):\n\u001b[1;32m---> 19\u001b[0m     \u001b[38;5;28;01mreturn\u001b[39;00m \u001b[43mcodecs\u001b[49m\u001b[38;5;241;43m.\u001b[39;49m\u001b[43mcharmap_encode\u001b[49m\u001b[43m(\u001b[49m\u001b[38;5;28;43minput\u001b[39;49m\u001b[43m,\u001b[49m\u001b[38;5;28;43mself\u001b[39;49m\u001b[38;5;241;43m.\u001b[39;49m\u001b[43merrors\u001b[49m\u001b[43m,\u001b[49m\u001b[43mencoding_table\u001b[49m\u001b[43m)\u001b[49m[\u001b[38;5;241m0\u001b[39m]\n",
      "\u001b[1;31mUnicodeEncodeError\u001b[0m: 'charmap' codec can't encode characters in position 62686-62687: character maps to <undefined>"
     ]
    }
   ],
   "source": [
    "with open(\"output.txt\", \"w\") as text_file:\n",
    "    text_file.write(extracted_text)"
   ]
  },
  {
   "cell_type": "code",
   "execution_count": null,
   "metadata": {},
   "outputs": [],
   "source": [
    "def get_embedding(text):\n",
    "    response = client.Embedding.create(\n",
    "        input=text,\n",
    "        model='text-embedding-ada-002'\n",
    "    )\n",
    "    return response['data'][0]['embedding']"
   ]
  },
  {
   "cell_type": "code",
   "execution_count": null,
   "metadata": {},
   "outputs": [],
   "source": [
    "chunk_embeddings = [{\"text\": chunk, \"embedding\": get_embedding(chunk)} for chunk in chunks]"
   ]
  },
  {
   "cell_type": "code",
   "execution_count": null,
   "metadata": {},
   "outputs": [],
   "source": [
    "vectordb_client = QdrantClient(\n",
    "    url=os.getenv(\"QDRANT_URL\"), \n",
    "    api_key=os.getenv(\"QDRANT_API_KEY\")\n",
    ")\n",
    "\n",
    "vectordb_client.recreate_collection(\n",
    "    collection_name=\"medication_guide\",\n",
    "    vectors_config={\"size\": 1536, \"distance\": \"Cosine\"}\n",
    ")"
   ]
  },
  {
   "cell_type": "code",
   "execution_count": null,
   "metadata": {},
   "outputs": [],
   "source": [
    "# Upload book information to the vectordb\n",
    "\n",
    "for idx, chunk in enumerate(chunk_embeddings):\n",
    "    client.upsert(\n",
    "        collection_name=\"medical_documents\",\n",
    "        points=[{\n",
    "            \"id\": str(idx),\n",
    "            \"vector\": chunk[\"embedding\"],\n",
    "            \"payload\": {\"text\": chunk[\"text\"]}\n",
    "        }]\n",
    "    )"
   ]
  },
  {
   "cell_type": "code",
   "execution_count": null,
   "metadata": {},
   "outputs": [],
   "source": [
    "def query_qdrant(query_text):\n",
    "    query_embedding = get_embedding(query_text)\n",
    "    search_result = client.search(\n",
    "        collection_name=\"medical_documents\",\n",
    "        query_vector=query_embedding,\n",
    "        limit=5\n",
    "    )\n",
    "    return [hit.payload[\"text\"] for hit in search_result]\n",
    "\n",
    "# Example query\n",
    "results = query_qdrant(\"What is the recommended dosage for medication A?\")\n",
    "for result in results:\n",
    "    print(result)"
   ]
  }
 ],
 "metadata": {
  "kernelspec": {
   "display_name": "Python 3",
   "language": "python",
   "name": "python3"
  },
  "language_info": {
   "codemirror_mode": {
    "name": "ipython",
    "version": 3
   },
   "file_extension": ".py",
   "mimetype": "text/x-python",
   "name": "python",
   "nbconvert_exporter": "python",
   "pygments_lexer": "ipython3",
   "version": "3.10.5"
  }
 },
 "nbformat": 4,
 "nbformat_minor": 2
}
